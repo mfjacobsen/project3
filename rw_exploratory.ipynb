{
 "cells": [
  {
   "cell_type": "code",
   "execution_count": null,
   "id": "35137709",
   "metadata": {
    "vscode": {
     "languageId": "plaintext"
    }
   },
   "outputs": [],
   "source": []
  },
  {
   "cell_type": "code",
   "execution_count": null,
   "id": "efc294cd",
   "metadata": {
    "vscode": {
     "languageId": "plaintext"
    }
   },
   "outputs": [],
   "source": []
  },
  {
   "cell_type": "code",
   "execution_count": null,
   "id": "40eb7922",
   "metadata": {
    "vscode": {
     "languageId": "plaintext"
    }
   },
   "outputs": [],
   "source": []
  },
  {
   "cell_type": "code",
   "execution_count": null,
   "id": "9dc3868a",
   "metadata": {
    "vscode": {
     "languageId": "plaintext"
    }
   },
   "outputs": [],
   "source": []
  },
  {
   "cell_type": "code",
   "execution_count": 1,
   "id": "9892632e",
   "metadata": {},
   "outputs": [],
   "source": [
    "import numpy as np\n",
    "import pandas as pd\n",
    "import plotly.graph_objects as go\n",
    "import plotly.colors as pc"
   ]
  },
  {
   "cell_type": "code",
   "execution_count": 2,
   "id": "d1ed383b",
   "metadata": {},
   "outputs": [],
   "source": [
    "subjects = pd.read_csv(\"data/treadmill/subject-info.csv\")\n",
    "measures = pd.read_csv(\"data/treadmill/test_measure.csv\")\n",
    "\n",
    "subjects = subjects.sort_values(by=[\"ID_test\"])\n",
    "measures = measures.sort_values(by=[\"ID_test\", \"time\"])\n",
    "\n",
    "measures[\"O2_rate\"] = measures[\"VO2\"]\n",
    "measures[\"CO2_rate\"] = measures[\"VCO2\"]\n",
    "measures[\"air_rate\"] = measures[\"VE\"]\n",
    "\n",
    "measures[\"O2_vol\"] = measures[\"O2_rate\"] / measures[\"RR\"]\n",
    "measures[\"CO2_vol\"] = measures[\"CO2_rate\"] / measures[\"RR\"]\n",
    "measures[\"air_vol\"] = measures[\"air_rate\"] / measures[\"RR\"]\n",
    "\n",
    "measures[\"O2_cum\"] = measures.groupby(\"ID_test\")[\"O2_vol\"].cumsum()\n",
    "measures[\"CO2_cum\"] = measures.groupby(\"ID_test\")[\"CO2_vol\"].cumsum()\n",
    "measures[\"air_cum\"] = measures.groupby(\"ID_test\")[\"air_vol\"].cumsum()\n",
    "\n",
    "measures = measures.drop(columns=[\"VO2\", \"VCO2\", \"VE\"])\n",
    "\n",
    "# Define numerical features\n",
    "measures_numerical = {'time', 'Speed', 'HR', 'RR', 'O2_rate', 'CO2_rate',\n",
    "       'air_rate', 'O2_vol', 'CO2_vol', 'air_vol', 'O2_cum', 'CO2_cum',\n",
    "       'air_cum', 'Age', 'Weight', 'Height', 'Humidity', 'Temperature'}"
   ]
  },
  {
   "cell_type": "code",
   "execution_count": 3,
   "id": "8db3c0ae",
   "metadata": {},
   "outputs": [],
   "source": [
    "# Normalizes the start times of the test from start speed of 5 km/h\n",
    "measures_test = measures[measures[\"Speed\"] > 5]\n",
    "normal_starts = measures_test.groupby(\"ID_test\")[\"time\"].transform(\"first\")\n",
    "measures_test.loc[:,\"time\"] = measures_test[\"time\"] - normal_starts\n",
    "\n",
    "# Normalizes the start times of the test from start speed of 6.1 km/h\n",
    "ids_slow = measures_test[(measures_test[\"Speed\"]==6.1) &(measures_test[\"time\"]>100)][\"ID_test\"].unique()\n",
    "first_steps = measures_test[measures_test[\"ID_test\"].isin(ids_slow) & (measures_test[\"Speed\"] > 6.1)].groupby(\"ID_test\")[\"time\"].first()\n",
    "measures_test.loc[:,\"time\"] = measures_test[\"time\"] - measures[\"ID_test\"].map(first_steps).fillna(0) + 60\n",
    "measures_test = measures_test[measures_test[\"time\"] > 0]\n",
    "\n",
    "# Remove tests with non-standard speeds increase rates\n",
    "outlier_ids = list(measures_test[(measures_test[\"time\"].between(276,301)) & (measures_test[\"Speed\"] > 11.4)][\"ID_test\"].unique())\n",
    "outlier_ids += [\"715_1\", \"796_1\", \"593_1\", \"789_1\", \"479_1\", \"73_1\", \"667_1\", \"318_1\", \"376_1\", \"695_1\"]\n",
    "measures_test = measures_test[(measures_test[\"time\"] > 0) & (~measures_test[\"ID_test\"].isin(outlier_ids))]\n",
    "\n",
    "# Remove cooldown periods\n",
    "measures_test = measures_test[~((measures_test[\"time\"] > 600) & (measures_test[\"Speed\"] < 12))]\n",
    "\n",
    "# Start all tests at time 0\n",
    "measures_test.loc[:,\"time\"] = measures_test[\"time\"] - measures_test.groupby(\"ID_test\")[\"time\"].transform(\"min\")"
   ]
  },
  {
   "cell_type": "code",
   "execution_count": 4,
   "id": "ec79d7b2",
   "metadata": {},
   "outputs": [],
   "source": [
    "df = measures_test.groupby([\"ID_test\", \"time\"]).mean()\n",
    "max_secs = measures_test.groupby(\"ID_test\")[\"time\"].agg(\"max\")\n",
    "tuples = [(key, second) for key, value in max_secs.items() for second in range(value + 1)]\n",
    "index = pd.MultiIndex.from_tuples(tuples, names=[\"ID_test\", \"time\"])\n",
    "measures_test = df.reindex(index).interpolate(method=\"linear\", limit_direction=\"both\").reset_index()\n",
    "measures_test.loc[:, \"ID\"] = measures_test[\"ID\"].astype(\"int\")\n",
    "\n",
    "# Join with subjects\n",
    "measures_test = measures_test.merge(subjects, on=[\"ID_test\", \"ID\"], how=\"left\")\n",
    "\n",
    "# Compute max speed attained quintile\n",
    "measures_test[\"max_speed_quintile\"] = measures_test[\"ID_test\"].map(pd.qcut(measures_test.groupby(\"ID_test\")[\"Speed\"].max(), 5, labels=False))"
   ]
  },
  {
   "cell_type": "code",
   "execution_count": null,
   "id": "c036027b",
   "metadata": {
    "vscode": {
     "languageId": "plaintext"
    }
   },
   "outputs": [],
   "source": [
    "# Generate color scale based on max speed attained\n",
    "color_data = measures_test.groupby(\"ID_test\")[\"Speed\"].max()\n",
    "\n",
    "hover_texts = [f\"Max Treadmill Speed: {d:.2f}\" for d in color_data]\n",
    "\n",
    "n_bins = 5\n",
    "bin_ids = pd.qcut(color_data, q=n_bins, labels=False, duplicates='drop')\n",
    "\n",
    "colorscale = pc.get_colorscale('bluered')\n",
    "discrete_colors = pc.sample_colorscale(colorscale, [i / (n_bins - 1) for i in range(n_bins)])\n",
    "\n",
    "colors = [discrete_colors[b] for b in bin_ids]"
   ]
  },
  {
   "cell_type": "code",
   "execution_count": null,
   "id": "5d35ad4e",
   "metadata": {
    "vscode": {
     "languageId": "plaintext"
    }
   },
   "outputs": [],
   "source": [
    "# Plot O2 Exchange Efficiency - Percent of O2 consumed by the body in each breath\n",
    "fig = go.Figure()\n",
    "\n",
    "for i, test in enumerate(measures_test[\"ID_test\"].unique()):\n",
    "\n",
    "    t1 = measures_test[measures_test[\"ID_test\"]==test]\n",
    "\n",
    "    fig.add_trace(\n",
    "        go.Scatter(\n",
    "            x=t1[\"time\"] / 60,\n",
    "            y=t1[\"Speed\"],\n",
    "            #y=t1[\"O2_vol\"].rolling(window=10).mean() / (t1[\"air_vol\"].rolling(window=10).mean() * 1000 * .2095) * 100,\n",
    "            mode=\"lines\",\n",
    "            line=dict(color=colors[i], width=.2),\n",
    "            name=test,\n",
    "            showlegend=True,\n",
    "            hovertext=hover_texts[i],\n",
    "        )\n",
    "    )\n",
    "\n",
    "fig.update_layout(\n",
    "    title = dict(text=\"O2 Exchange Efficiency in Maximal Treadmill Exercise Test\"),\n",
    "    xaxis=dict(title=\"Minutes\"),\n",
    "    yaxis=dict(title=\"O2 Exchange Effficiency (%)\"),\n",
    "    legend=dict(title=\"ID Test\"),\n",
    "    height= 800,\n",
    "    width=1000\n",
    ")\n",
    "\n",
    "fig.show()"
   ]
  },
  {
   "cell_type": "code",
   "execution_count": null,
   "id": "804701d1",
   "metadata": {
    "vscode": {
     "languageId": "plaintext"
    }
   },
   "outputs": [],
   "source": [
    "import pandas as pd\n",
    "import numpy as np\n",
    "\n",
    "# Sample: your existing DataFrame (with 'time' and 'speed')\n",
    "# df = pd.read_csv(\"your_data.csv\")\n",
    "\n",
    "# Group by 'time' to count people and calculate average speed at each time\n",
    "time_grouped = measures_test.groupby('time').agg(\n",
    "    people_at_exact_time=('Speed', 'size'),\n",
    "    avg_speed=('Speed', 'mean')\n",
    ")\n",
    "\n",
    "# Filter the counts to only include multiples of 5 (e.g., 0, 5, 10, ...)\n",
    "checkpoints = time_grouped[time_grouped.index % 5 == 0]\n",
    "\n",
    "# Reset index to make the result clearer\n",
    "result_df = checkpoints.reset_index()\n",
    "result_df.columns = ['time', 'speed', 'count']\n",
    "result_df"
   ]
  }
 ],
 "metadata": {
  "kernelspec": {
   "display_name": "dsc106",
   "language": "python",
   "name": "python3"
  },
  "language_info": {
   "codemirror_mode": {
    "name": "ipython",
    "version": 3
   },
   "file_extension": ".py",
   "mimetype": "text/x-python",
   "name": "python",
   "nbconvert_exporter": "python",
   "pygments_lexer": "ipython3",
   "version": "3.11.11"
  }
 },
 "nbformat": 4,
 "nbformat_minor": 5
}
